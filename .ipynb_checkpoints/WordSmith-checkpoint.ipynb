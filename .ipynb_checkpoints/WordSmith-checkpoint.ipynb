{
 "cells": [
  {
   "cell_type": "code",
   "execution_count": 1,
   "id": "2870a5f3",
   "metadata": {},
   "outputs": [
    {
     "name": "stdout",
     "output_type": "stream",
     "text": [
      "Processing c:\\users\\ofone\\downloads\\pyaudio-0.2.11-cp311-cp311-win_amd64.whl\n",
      "PyAudio is already installed with the same version as the provided wheel. Use --force-reinstall to force an installation of the wheel.\n",
      "Note: you may need to restart the kernel to use updated packages.\n"
     ]
    }
   ],
   "source": [
    "pip install \"C:\\Users\\ofone\\Downloads\\PyAudio-0.2.11-cp311-cp311-win_amd64.whl\""
   ]
  },
  {
   "cell_type": "code",
   "execution_count": 2,
   "id": "3dc10625",
   "metadata": {},
   "outputs": [],
   "source": [
    "import speech_recognition\n",
    "import pyttsx3"
   ]
  },
  {
   "cell_type": "code",
   "execution_count": 3,
   "id": "55c516b5",
   "metadata": {},
   "outputs": [],
   "source": [
    "def SpeakNow(command):\n",
    "    voice = pyttsx3.init()\n",
    "    voice.say(command)\n",
    "    voice.runAndWait()"
   ]
  },
  {
   "cell_type": "code",
   "execution_count": 5,
   "id": "93d1484a",
   "metadata": {},
   "outputs": [
    {
     "name": "stdout",
     "output_type": "stream",
     "text": [
      "Dont talk yet please\n",
      " Say something\n",
      "Did you say:-hello richard are you ok\n"
     ]
    }
   ],
   "source": [
    "sr = speech_recognition.Recognizer()\n",
    "with speech_recognition.Microphone() as mic:\n",
    "    print(\"Dont talk yet please\")\n",
    "    sr.adjust_for_ambient_noise(mic, duration = 2)\n",
    "    print(\" Say something\")\n",
    "    audio = sr.listen(mic)\n",
    "    text = sr.recognize_google(audio)\n",
    "    text = text.lower()\n",
    "    print(\"Did you say:-\"+text)\n",
    "    \n",
    "    SpeakNow(text)"
   ]
  },
  {
   "cell_type": "code",
   "execution_count": 10,
   "id": "cc2018e7",
   "metadata": {},
   "outputs": [],
   "source": [
    "def SpeakNow(command):\n",
    "    voice = pyttsx3.init()\n",
    "    voice.say(command)\n",
    "    voice.runAndWait()"
   ]
  },
  {
   "cell_type": "code",
   "execution_count": 12,
   "id": "562d206d",
   "metadata": {},
   "outputs": [
    {
     "name": "stdout",
     "output_type": "stream",
     "text": [
      "Say something...\n",
      "Recognized: loser\n"
     ]
    }
   ],
   "source": [
    "import speech_recognition as sr\n",
    "\n",
    "# Create a recognizer object\n",
    "recognizer = sr.Recognizer()\n",
    "\n",
    "# Use the microphone to capture audio\n",
    "with sr.Microphone() as source:\n",
    "    print(\"Say something...\")\n",
    "    audio = recognizer.listen(source)\n",
    "\n",
    "# Recognize speech using Google Web Speech API\n",
    "try:\n",
    "    recognized_text = recognizer.recognize_google(audio)\n",
    "    print(f\"Recognized: {recognized_text}\")\n",
    "    SpeakNow(text)\n",
    "except sr.UnknownValueError:\n",
    "    print(\"Speech Recognition could not understand audio.\")\n",
    "except sr.RequestError as e:\n",
    "    print(f\"Could not request results from Google Web Speech API; {e}\")\n",
    "    "
   ]
  },
  {
   "cell_type": "code",
   "execution_count": null,
   "id": "8130d3fb",
   "metadata": {},
   "outputs": [],
   "source": []
  },
  {
   "cell_type": "code",
   "execution_count": null,
   "id": "9e0beeac",
   "metadata": {},
   "outputs": [],
   "source": []
  }
 ],
 "metadata": {
  "kernelspec": {
   "display_name": "Python 3 (ipykernel)",
   "language": "python",
   "name": "python3"
  },
  "language_info": {
   "codemirror_mode": {
    "name": "ipython",
    "version": 3
   },
   "file_extension": ".py",
   "mimetype": "text/x-python",
   "name": "python",
   "nbconvert_exporter": "python",
   "pygments_lexer": "ipython3",
   "version": "3.11.3"
  }
 },
 "nbformat": 4,
 "nbformat_minor": 5
}
